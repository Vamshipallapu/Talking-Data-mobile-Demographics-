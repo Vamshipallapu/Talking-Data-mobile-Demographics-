{
  "cells": [
    {
      "cell_type": "markdown",
      "metadata": {
        "id": "RbBDqumw-5ek"
      },
      "source": [
        "# GENERAL FEATURES FOR KERAS MODELS"
      ]
    },
    {
      "cell_type": "code",
      "execution_count": null,
      "metadata": {
        "id": "aSWfHaa0-5eo"
      },
      "outputs": [],
      "source": [
        "import os\n",
        "import sys\n",
        "from os import path\n",
        "import numpy as np\n",
        "import pandas as pd\n",
        "from scipy import sparse, io\n",
        "from scipy.sparse import csr_matrix, hstack\n",
        "from sklearn.preprocessing import LabelEncoder\n",
        "from sklearn.decomposition import TruncatedSVD\n",
        "from sklearn.preprocessing import StandardScaler\n",
        "import matplotlib.pyplot as plt\n"
      ]
    },
    {
      "cell_type": "code",
      "source": [
        "from google.colab import drive\n",
        "drive.mount('/content/drive')"
      ],
      "metadata": {
        "colab": {
          "base_uri": "https://localhost:8080/"
        },
        "id": "_NgKuWNg_VQp",
        "outputId": "38421340-0358-48e2-889f-1795de719326"
      },
      "execution_count": 1,
      "outputs": [
        {
          "output_type": "stream",
          "name": "stdout",
          "text": [
            "Mounted at /content/drive\n"
          ]
        }
      ]
    },
    {
      "cell_type": "markdown",
      "metadata": {
        "id": "fPSWU4GN-5eq"
      },
      "source": [
        "## LOADING DATA"
      ]
    },
    {
      "cell_type": "code",
      "execution_count": null,
      "metadata": {
        "id": "UzKNWouu-5er"
      },
      "outputs": [],
      "source": [
        "feat_gat_tr = pd.read_csv('/content/drive/MyDrive/talkingdata-mobile-user-demographics/gender_age_train.csv')\n",
        "feat_gat_test = pd.read_csv('/content/drive/MyDrive/talkingdata-mobile-user-demographics/gender_age_test.csv')\n",
        "feat_ph = pd.read_csv('/content/drive/MyDrive/talkingdata-mobile-user-demographics/phone_brand_device_model.csv')\n",
        "# removing duplicate values in phone dataframe so doesn't create problems while joining dataframes\n",
        "feat_ph=feat_ph.drop_duplicates('device_id',keep='first')\n",
        "\n",
        "feat_eve = pd.read_csv('/content/drive/MyDrive/talkingdata-mobile-user-demographics/events.csv'),parse_dates=['timestamp'],infer_datetime_format=True,)\n",
        "\n",
        "feat_ap_eve = pd.read_csv('/content/drive/MyDrive/talkingdata-mobile-user-demographics/app_events.csv'),dtype={'is_installed':bool, 'is_active':bool})\n",
        "\n",
        "feat_app_lab = pd.read_csv('/content/drive/MyDrive/talkingdata-mobile-user-demographics/app_labels.csv')  \n",
        "feat_lab_cat = pd.read_csv('/content/drive/MyDrive/talkingdata-mobile-user-demographics/label_categories.csv')"
      ]
    },
    {
      "cell_type": "markdown",
      "metadata": {
        "id": "rqR3O0bN-5es"
      },
      "source": [
        "## CREATE HAS_EVENTS FEATURES"
      ]
    },
    {
      "cell_type": "code",
      "execution_count": null,
      "metadata": {
        "id": "A0JkVaNP-5es"
      },
      "outputs": [],
      "source": [
        "feat_s=feat_eve.device_id.unique() \n",
        "#creating featura has events for train and test\n",
        "feat_gat_tr['has_events']=feat_gat_tr.device_id.apply(lambda x:1 if x in s else 0)  \n",
        "feat_gat_test['has_events']=feat_gat_test.device_id.apply(lambda x:1 if x in s else 0)"
      ]
    },
    {
      "cell_type": "code",
      "execution_count": null,
      "metadata": {
        "id": "_M-L1NuR-5et"
      },
      "outputs": [],
      "source": [
        "feat_gat_tr['trainrow'] = np.arange(feat_gat_tr.shape[0])\n",
        "feat_gat_test['testrow'] = np.arange(feat_gat_test.shape[0]) \n",
        "feat_gat_tr=feat_gat_tr.merge(feat_ph,on='device_id')  \n",
        "\n",
        "feat_gat_test=feat_gat_test.merge(feat_ph,on='device_id')"
      ]
    },
    {
      "cell_type": "markdown",
      "metadata": {
        "id": "Ib5kB54H-5eu"
      },
      "source": [
        "## BOW OF BRAND"
      ]
    },
    {
      "cell_type": "code",
      "execution_count": null,
      "metadata": {
        "id": "DzkO7AKQ-5eu",
        "outputId": "ceb09243-699b-4688-f58e-f3d1f1ff108c"
      },
      "outputs": [
        {
          "name": "stdout",
          "output_type": "stream",
          "text": [
            "Brand features: train shape (74645, 131), test shape (112071, 131)\n"
          ]
        }
      ],
      "source": [
        "import pickle\n",
        "feat_br_encoder = LabelEncoder()\n",
        "feat_br_encoder.fit(np.append(feat_gat_tr.phone_brand.values,feat_gat_test.phone_brand.values)) \n",
        "pickle.dump(feat_br_encoder,open('brandencoder.sav','wb'))\n",
        "#converting brand to labels\n",
        "feat_gat_tr['phone_brand']=feat_br_encoder.transform(feat_gat_tr['phone_brand']) \n",
        "feat_gat_test['phone_brand']=feat_br_encoder.transform(feat_gat_test['phone_brand'])  \n",
        "#converting labels to int datatype\n",
        "feat_row=feat_gat_tr['phone_brand'].astype(int) \n",
        "feat_row2=feat_gat_test['phone_brand'].astype(int)\n",
        "#creating sparse matrix of brand data\n",
        "feat_Xtr_br = csr_matrix((np.ones(feat_gat_tr.shape[0]),\n",
        "                       (feat_gat_tr.trainrow, feat_row)))\n",
        "feat_Xte_br = csr_matrix((np.ones(feat_gat_test.shape[0]),\n",
        "                       (feat_gat_test.testrow, feat_row2)))\n",
        "print('Brand features: train shape {}, test shape {}'.format(feat_Xtr_br.shape, feat_Xte_br.shape))"
      ]
    },
    {
      "cell_type": "markdown",
      "metadata": {
        "id": "BazF8P4h-5ew"
      },
      "source": [
        "## BOW OF MODEL"
      ]
    },
    {
      "cell_type": "code",
      "execution_count": null,
      "metadata": {
        "id": "29_x8ca9-5ew",
        "outputId": "c693c1f2-2a3d-41ca-efd8-c9bfec2c553c"
      },
      "outputs": [
        {
          "name": "stdout",
          "output_type": "stream",
          "text": [
            "Model features: train shape (74645, 1667), test shape (112071, 1667)\n"
          ]
        }
      ],
      "source": [
        "m = feat_ph.phone_brand.str.cat(feat_ph.device_model)\n",
        "\n",
        "feat_mod_encodr = LabelEncoder().fit(m)\n",
        "#converting model to labels\n",
        "pickle.dump(feat_mod_encodr,open('modelencoder.sav','wb'))\n",
        "feat_gat_tr['model']=feat_mod_encodr.transform(feat_gat_tr['phone_brand'].str.cat(feat_gat_tr.device_model)) \n",
        "feat_gat_test['model']=feat_mod_encodr.transform(feat_gat_test['phone_brand'].str.cat(feat_gat_test.device_model)) \n",
        "#converting labels to int datatype\n",
        "feat_row=feat_gat_tr['model'].astype(int) \n",
        "feat_row2=feat_gat_test['model'].astype(int) \n",
        "#creating sparse matrix of model data\n",
        "feat_Xtr_mod = csr_matrix((np.ones(feat_gat_tr.shape[0]),\n",
        "                       (feat_gat_tr.trainrow, feat_row)))\n",
        "feat_Xte_mod = csr_matrix((np.ones(feat_gat_test.shape[0]),\n",
        "                       (feat_gat_test.testrow, feat_row2)))\n",
        "print('Model features: train shape {}, test shape {}'.format(feat_Xtr_mod.shape, feat_Xte_mod.shape))\n"
      ]
    },
    {
      "cell_type": "markdown",
      "metadata": {
        "id": "AUjBtWp1-5ex"
      },
      "source": [
        "## TRAIN AND TEST DATASET FOR NOEVENTS FEATURE"
      ]
    },
    {
      "cell_type": "code",
      "execution_count": null,
      "metadata": {
        "id": "iafXhigb-5ex"
      },
      "outputs": [],
      "source": [
        "feat_Xtr_all_br_mod=hstack((feat_Xtr_br,feat_Xtr_mod)) \n",
        "feat_Xtr_eve_br_mod=hstack((feat_Xtr_br[feat_gat_tr.index[feat_gat_tr.has_events==1],:],feat_Xtr_mod[feat_gat_tr.index[feat_gat_tr.has_events==1],:]))\n",
        "feat_Xtr_noeve_br_mod=hstack((feat_Xtr_br[feat_gat_tr.index[feat_gat_tr.has_events==0],:],feat_Xtr_mod[feat_gat_tr.index[feat_gat_tr.has_events==0],:]))                                           "
      ]
    },
    {
      "cell_type": "code",
      "execution_count": null,
      "metadata": {
        "id": "3BSEryMH-5ey"
      },
      "outputs": [],
      "source": [
        "feat_Xte_all_br_mod=hstack((feat_Xte_br,feat_Xte_mod)) \n",
        "feat_Xte_eve_br_mod=hstack((feat_Xte_br[feat_gat_test.index[feat_gat_test.has_events==1],:],feat_Xte_mod[feat_gat_test.index[feat_gat_test.has_events==1],:]))\n",
        "feat_Xte_noeve_br_mod=hstack((feat_Xte_br[feat_gat_test.index[feat_gat_test.has_events==0],:],feat_Xte_mod[feat_gat_test.index[feat_gat_test.has_events==0],:]))                                           "
      ]
    },
    {
      "cell_type": "markdown",
      "metadata": {
        "id": "eruAw-t8-5ey"
      },
      "source": [
        "## BOW FOR APPS"
      ]
    },
    {
      "cell_type": "code",
      "execution_count": null,
      "metadata": {
        "id": "yDPgPck0-5ey"
      },
      "outputs": [],
      "source": [
        "feat_eve=feat_eve.set_index('event_id') \n",
        "feat_gat_tr=feat_gat_tr.set_index('device_id') \n",
        "feat_gat_test=feat_gat_test.set_index('device_id')"
      ]
    },
    {
      "cell_type": "code",
      "execution_count": null,
      "metadata": {
        "id": "C4NwLWv4-5ey",
        "outputId": "75418b8f-d81b-438e-a1dc-f8174bdf0583"
      },
      "outputs": [
        {
          "name": "stdout",
          "output_type": "stream",
          "text": [
            "Apps data: train shape (74645, 19237), test shape (112071, 19237)\n"
          ]
        }
      ],
      "source": [
        "feat_ap_encodr = LabelEncoder().fit(feat_ap_eve.app_id)\n",
        "#converting apps to labels\n",
        "feat_ap_eve['app'] = feat_ap_encodr.transform(feat_ap_eve.app_id) \n",
        "pickle.dump(feat_ap_encodr,open('appencoder.sav','wb'))\n",
        "napps = len(feat_ap_encodr.classes_) \n",
        "# finding apps per device id and finding row in train and test associated with device id\n",
        "feat_devic_aps = (feat_ap_eve.merge(feat_eve[['device_id']], how='left',left_on='event_id',right_index=True)\n",
        "                       .groupby(['device_id','app'])['app'].agg(['size'])\n",
        "                       .merge(feat_gat_tr[['trainrow']], how='left', left_index=True, right_index=True)\n",
        "                       .merge(feat_gat_test[['testrow']], how='left', left_index=True, right_index=True)\n",
        "                       .reset_index())\n",
        "feat_devic_aps.head()\n",
        "# sparse matrix representation of bag of words of apps\n",
        "d = feat_devic_aps.dropna(subset=['trainrow'])\n",
        "feat_Xtr_ap = csr_matrix((np.ones(d.shape[0]), (d.trainrow, d.app)),\n",
        "                      shape=(feat_gat_tr.shape[0],napps))\n",
        "d = feat_devic_aps.dropna(subset=['testrow'])\n",
        "feat_Xte_ap = csr_matrix((np.ones(d.shape[0]), (d.testrow, d.app)),\n",
        "                      shape=(feat_gat_test.shape[0],napps))\n",
        "print('Apps data: train shape {}, test shape {}'.format(feat_Xtr_ap.shape, feat_Xte_ap.shape))\n",
        "\n"
      ]
    },
    {
      "cell_type": "markdown",
      "metadata": {
        "id": "T5Fm4BJW-5ez"
      },
      "source": [
        "## BOW FOR LABELS"
      ]
    },
    {
      "cell_type": "code",
      "execution_count": null,
      "metadata": {
        "id": "bzeItNwm-5ez",
        "outputId": "c9dc11bd-5eaf-4b51-c0c6-b6df7b9c21f6"
      },
      "outputs": [
        {
          "name": "stdout",
          "output_type": "stream",
          "text": [
            "Labels data: train shape (74645, 492), test shape (112071, 492)\n"
          ]
        }
      ],
      "source": [
        "feat_app_lab = feat_app_lab.loc[feat_app_lab.app_id.isin(feat_ap_eve.app_id.unique())] \n",
        "#converting applabels to labels\n",
        "feat_app_lab['app'] = feat_ap_encodr.transform(feat_app_lab.app_id) \n",
        "\n",
        "\n",
        "feat_lab_encodr = LabelEncoder().fit(feat_app_lab.label_id)\n",
        "pickle.dump(feat_lab_encodr,open('labelcoder.sav','wb'))\n",
        "feat_app_lab['label'] = feat_lab_encodr.transform(feat_app_lab.label_id)\n",
        "nlabels = len(feat_lab_encodr.classes_)\n",
        "# finding labels per device id and finding row in train and test associated with device id\n",
        "feat_devic_lab = (feat_devic_aps[['device_id','app']]\n",
        "                .merge(feat_app_lab[['app','label']])\n",
        "                .groupby(['device_id','label'])['app'].agg(['size'])\n",
        "                .merge(feat_gat_tr[['trainrow']], how='left', left_index=True, right_index=True)\n",
        "                .merge(feat_gat_test[['testrow']], how='left', left_index=True, right_index=True)\n",
        "                .reset_index())\n",
        "feat_devic_lab.head()\n",
        "# sparse matrix representation of bag of words of applabels\n",
        "d = feat_devic_lab.dropna(subset=['trainrow'])\n",
        "feat_Xtr_lab = csr_matrix((np.ones(d.shape[0]), (d.trainrow, d.label)),\n",
        "                      shape=(feat_gat_tr.shape[0],nlabels))\n",
        "d = feat_devic_lab.dropna(subset=['testrow'])\n",
        "feat_Xte_lab = csr_matrix((np.ones(d.shape[0]), (d.testrow, d.label)),\n",
        "                      shape=(feat_gat_test.shape[0],nlabels))\n",
        "print('Labels data: train shape {}, test shape {}'.format(feat_Xtr_lab.shape, feat_Xte_lab.shape))"
      ]
    },
    {
      "cell_type": "code",
      "execution_count": null,
      "metadata": {
        "id": "b3X6FFZ4-5e0",
        "outputId": "e8848a7d-4f4e-4293-a88a-3707954127c5"
      },
      "outputs": [
        {
          "name": "stdout",
          "output_type": "stream",
          "text": [
            "Apps data: train shape (74645, 19237), test shape (112071, 19237)\n"
          ]
        }
      ],
      "source": [
        "print('Apps data: train shape {}, test shape {}'.format(feat_Xtr_ap.shape, feat_Xte_ap.shape))\n"
      ]
    },
    {
      "cell_type": "markdown",
      "metadata": {
        "id": "wEuot9hm-5e0"
      },
      "source": [
        "## TRAIN AND TEST FOR ALL DATA"
      ]
    },
    {
      "cell_type": "code",
      "execution_count": null,
      "metadata": {
        "id": "oRU-FLxq-5e0"
      },
      "outputs": [],
      "source": [
        "feat_Xtr_all = hstack((feat_Xtr_br, feat_Xtr_mod, feat_Xtr_ap, feat_Xtr_lab), format='csr')\n",
        "feat_Xte_all =  hstack((feat_Xte_br, feat_Xte_mod, feat_Xte_ap, feat_Xte_lab), format='csr')"
      ]
    },
    {
      "cell_type": "code",
      "execution_count": null,
      "metadata": {
        "id": "TFUa1-fq-5e1",
        "outputId": "94048c0d-7480-428f-eede-a7425c5ac0ae"
      },
      "outputs": [
        {
          "data": {
            "text/plain": [
              "<74645x21527 sparse matrix of type '<class 'numpy.float64'>'\n",
              "\twith 2707712 stored elements in Compressed Sparse Row format>"
            ]
          },
          "execution_count": 18,
          "metadata": {},
          "output_type": "execute_result"
        }
      ],
      "source": [
        "feat_Xtr_all"
      ]
    },
    {
      "cell_type": "code",
      "execution_count": null,
      "metadata": {
        "id": "ArL7_Egc-5e1"
      },
      "outputs": [],
      "source": [
        "feat_gat_test=feat_gat_test.reset_index() \n",
        "feat_gat_tr=feat_gat_tr.reset_index()"
      ]
    },
    {
      "cell_type": "code",
      "execution_count": null,
      "metadata": {
        "id": "8HtY-bfv-5e1"
      },
      "outputs": [],
      "source": [
        "feat_Xtr_eve=feat_Xtr_all[feat_gat_tr.index[feat_gat_tr.has_events==1],:] \n",
        "feat_Xte_eve=feat_Xte_all[feat_gat_test.index[feat_gat_test.has_events==1],:]"
      ]
    },
    {
      "cell_type": "code",
      "execution_count": null,
      "metadata": {
        "id": "KIEPQ97K-5e1"
      },
      "outputs": [],
      "source": [
        "feat_gat_tr.index[feat_gat_tr.has_events==1]"
      ]
    }
  ],
  "metadata": {
    "kernelspec": {
      "display_name": "Python 3",
      "language": "python",
      "name": "python3"
    },
    "language_info": {
      "codemirror_mode": {
        "name": "ipython",
        "version": 3
      },
      "file_extension": ".py",
      "mimetype": "text/x-python",
      "name": "python",
      "nbconvert_exporter": "python",
      "pygments_lexer": "ipython3",
      "version": "3.6.7"
    },
    "colab": {
      "name": "features1.ipynb",
      "provenance": []
    }
  },
  "nbformat": 4,
  "nbformat_minor": 0
}