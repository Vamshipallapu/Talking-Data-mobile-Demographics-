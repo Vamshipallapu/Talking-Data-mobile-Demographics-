{
  "cells": [
    {
      "cell_type": "code",
      "execution_count": null,
      "metadata": {
        "id": "hmiD6lmrzDAr"
      },
      "outputs": [],
      "source": [
        "import numpy as np\n",
        "seed = 7\n",
        "np.random.seed(seed)\n",
        "import dask.dataframe as dd\n",
        "import pandas as pd\n",
        "import pandas.core.algorithms as algos\n",
        "\n",
        "\n",
        "from sklearn.preprocessing import LabelEncoder\n",
        "from sklearn.pipeline import Pipeline\n",
        "from sklearn.model_selection import train_test_split\n",
        "from sklearn.metrics import log_loss\n",
        "#from sklearn.cross_validation import StratifiedKFold\n",
        "from sklearn.linear_model import LogisticRegression\n",
        "from sklearn.feature_extraction.text import CountVectorizer, TfidfVectorizer\n",
        "from sklearn.decomposition import TruncatedSVD\n",
        "\n",
        "import os\n",
        "from scipy.sparse import csr_matrix, hstack\n",
        "\n",
        "from keras.models import Sequential\n",
        "from keras.layers import Dense, Dropout, Activation\n",
        "from keras.wrappers.scikit_learn import KerasClassifier\n",
        "from keras.utils import np_utils\n",
        "from keras.optimizers import SGD\n",
        "from keras.layers.advanced_activations import PReLU"
      ]
    },
    {
      "cell_type": "code",
      "source": [
        "from google.colab import drive\n",
        "drive.mount('/content/gdrive')"
      ],
      "metadata": {
        "colab": {
          "base_uri": "https://localhost:8080/",
          "height": 0
        },
        "id": "2Txa5nDuA2Gu",
        "outputId": "ccc5184f-6913-43c2-bba3-4e560cd37e45"
      },
      "execution_count": 1,
      "outputs": [
        {
          "output_type": "stream",
          "name": "stdout",
          "text": [
            "Mounted at /content/gdrive\n"
          ]
        }
      ]
    },
    {
      "cell_type": "markdown",
      "metadata": {
        "id": "FD3NW_yyzDAw"
      },
      "source": [
        "## loading data"
      ]
    },
    {
      "cell_type": "code",
      "execution_count": null,
      "metadata": {
        "id": "kx3pTjKBzDAx"
      },
      "outputs": [],
      "source": [
        "#importing the data\n",
        "feat_gat_tr = pd.read_csv('/content/gdrive/MyDrive/talkingdata-mobile-user-demographics/gender_age_train.csv')\n",
        "feat_gat_test = pd.read_csv('/content/gdrive/MyDrive/talkingdata-mobile-user-demographics/gender_age_test.csv')\n",
        "feat_ph = pd.read_csv('/content/gdrive/MyDrive/talkingdata-mobile-user-demographics/phone_brand_device_model.csv')\n",
        "# removing duplicate values in phone dataframe so doesn't create problems while joining dataframes\n",
        "feat_ph=feat_ph.drop_duplicates('device_id',keep='first')\n",
        "\n",
        "events = pd.read_csv('/content/gdrive/MyDrive/talkingdata-mobile-user-demographics/events.csv',\n",
        "                     parse_dates=['timestamp'],\n",
        "                     infer_datetime_format=True,\n",
        "                     )\n",
        "\n",
        "feat_ap_eve = pd.read_csv('/content/gdrive/MyDrive/talkingdata-mobile-user-demographics/app_events.csv',\n",
        "                    dtype={'is_installed':bool, 'is_active':bool})\n",
        "\n",
        "feat_app_lab = pd.read_csv('/content/gdrive/MyDrive/talkingdata-mobile-user-demographics/app_labels.csv') \n",
        "feat_fold_5=pd.read_csv('/content/gdrive/MyDrive/talkingdata-mobile-user-demographics/folds_5.csv')\n",
        "feat_fold_10=pd.read_csv('/content/gdrive/MyDrive/talkingdata-mobile-user-demographics/folds_10.csv') \n",
        "feat_lab_cat = pd.read_csv('/content/gdrive/MyDrive/talkingdata-mobile-user-demographics/label_categories.csv')"
      ]
    },
    {
      "cell_type": "code",
      "execution_count": null,
      "metadata": {
        "id": "oMHvnKr5zDAy",
        "outputId": "44db9085-8cbc-4b12-ec57-73f6a36a9621"
      },
      "outputs": [
        {
          "data": {
            "text/plain": [
              "array(['E人E本', 'E派', 'HTC', 'LG', 'LOGO', 'Lovme', 'MIL', 'OPPO', 'PPTV',\n",
              "       'SUGAR', 'TCL', 'ZOYE', 'ZUK', 'vivo', '一加', '三星', '世纪天元', '世纪星',\n",
              "       '中兴', '中国移动', '丰米', '乐视', '乡米', '亚马逊', '亿通', '优米', '优语', '优购',\n",
              "       '先锋', '凯利通', '努比亚', '华为', '华硕', '原点', '台电', '唯比', '唯米', '嘉源', '基伍',\n",
              "       '夏新', '大Q', '大可乐', '大显', '天宏时代', '天语', '奇酷', '奥克斯', '宏碁', '宝捷讯',\n",
              "       '富可视', '小杨树', '小米', '尼比鲁', '帷幄', '广信', '康佳', '德卡诺', '德赛', '恒宇丰',\n",
              "       '惠普', '戴尔', '摩乐', '摩托罗拉', '斐讯', '昂达', '易派', '普耐尔', '智镁', '本为',\n",
              "       '朵唯', '极米', '果米', '梦米', '欧乐迪', '欧乐酷', '欧博信', '欧奇', '欧新', '欧比',\n",
              "       '欧沃', '沃普丰', '波导', '海信', '海尔', '爱派尔', '瑞米', '瑞高', '白米', '百加',\n",
              "       '百立丰', '碟米', '神舟', '米奇', '米歌', '糖葫芦', '糯米', '索尼', '纽曼', '维图', '美图',\n",
              "       '聆韵', '联想', '至尊宝', '艾优尼', '蓝魔', '虾米', '西米', '西门子', '语信', '诺亚信',\n",
              "       '诺基亚', '谷歌', '贝尔丰', '赛博宇华', '邦华', '酷比', '酷比魔方', '酷派', '酷珀', '金星数码',\n",
              "       '金立', '锤子', '长虹', '青橙', '青葱', '飞利浦', '飞秒', '首云', '魅族', '鲜米', '黑米'],\n",
              "      dtype=object)"
            ]
          },
          "execution_count": 10,
          "metadata": {},
          "output_type": "execute_result"
        }
      ],
      "source": [
        "import pickle\n",
        "feat_br_encoder = pickle.load(open('feat_br_encoder.sav','rb')) "
      ]
    },
    {
      "cell_type": "code",
      "execution_count": null,
      "metadata": {
        "id": "Q1fcekLSzDA0"
      },
      "outputs": [],
      "source": [
        "\n",
        "feat_unq_col=np.load('unique_columns.npy')"
      ]
    },
    {
      "cell_type": "code",
      "execution_count": null,
      "metadata": {
        "id": "PlkgS7FtzDA1"
      },
      "outputs": [],
      "source": [
        "def feat_transform(brand,model): \n",
        "    #loading data\n",
        "    \n",
        "    #making brand feature\n",
        "    feat_br_encoder = pickle.load(open('feat_br_encoder.sav','rb'))\n",
        "    feat_l=[] \n",
        "    feat_l.append(brand)\n",
        "    \n",
        "    \n",
        "    feat_rp=feat_br_encoder.transform(l)  \n",
        "    \n",
        "    feat_n=np.zeros(len(feat_br_encoder.classes_)) \n",
        "    \n",
        "    feat_n[feat_rp[0]]=1 \n",
        "    feat_sPhone = sparse.csr_matrix(feat_n)  \n",
        "    print(\"shape of phone {}\".format(feat_sPhone.shape)) \n",
        "    \n",
        "    # making model feature\n",
        "    feat_mod_encodr = pickle.load(open('feat_mod_encodr.sav','rb'))\n",
        "    #converting model to labels\n",
        "    feat_modl=brand+model  \n",
        "    feat_l=[] \n",
        "    feat_l.append(feat_modl)  \n",
        "    feat_rm=feat_mod_encodr.transform(feat_l)  \n",
        "    feat_n=np.zeros(len(feat_mod_encodr.classes_)) \n",
        "    \n",
        "    feat_n[feat_rm[0]]=1  \n",
        "    feat_sMod = sparse.csr_matrix(feat_n) \n",
        "    print(\"shape of model {}\".format(feat_sMod.shape))\n",
        "    #model frequency feature\n",
        "    mod_freq = pickle.load(open('mod_freq.pkl','rb'))  \n",
        "    feat_mfreq=mod_freq[model]\n",
        "    \n",
        "    feat_mf_encod =pickle.load(open('feat_mf_encod.sav','rb'))\n",
        "    feat_l=[] \n",
        "    feat_l.append(feat_mfreq) \n",
        "    feat_rmf=feat_mf_encod.transform(feat_l) \n",
        "    feat_nm_freqs = len(feat_mf_encod.classes_) \n",
        "    feat_n=np.zeros(feat_nm_freqs) \n",
        "    feat_n[feat_rmf[0]]=1 \n",
        "    feat_sMod_freq = sparse.csr_matrix(feat_n) \n",
        "    print(\"shape of mfreq {}\".format(feat_sMod_freq.shape))\n",
        "    \n",
        "    #making brand frequency feature \n",
        "    feat_br_freq = pickle.load(open('feat_br_freq.pkl','rb'))\n",
        "    feat_bfreq=feat_br_freq[brand]\n",
        "    feat_l=[] \n",
        "    feat_l.append(feat_bfreq)\n",
        "    feat_bf_encod = pickle.load(open('feat_bf_encod.sav','rb'))\n",
        "\n",
        "    feat_rbf=feat_bf_encod.transform(feat_l) \n",
        "    feat_nbfreqs = len(feat_bf_encod.classes_) \n",
        "    feat_n=np.zeros(feat_nbfreqs) \n",
        "    feat_n[feat_rbf[0]]=1 \n",
        "    feat_sBr_freq = sparse.csr_matrix(feat_n)\n",
        "    print(\"shape of brandfreq {}\".format(feat_sBr_freq.shape)) \n",
        "    \n",
        "    #making tfidf features for brand and frequency\n",
        "    \n",
        "    feat_tfv = pickle.load(open('tfv_noevent.sav','rb'))\n",
        "\n",
        "    feat_tf=brand+\" \"+model\n",
        "    feat_tfidf_test=feat_tfv.transform([feat_tf]) \n",
        "    print(\"shape of tfidf {}\".format(feat_tfidf_test.shape))\n",
        "    return hstack((feat_sPhone,feat_sMod,feat_sMod_freq,feat_sBr_freq,feat_tfidf_test))\n",
        "    \n",
        "    \n",
        "    \n",
        "    \n",
        "    "
      ]
    },
    {
      "cell_type": "code",
      "execution_count": null,
      "metadata": {
        "id": "A2X6NC0uzDA2"
      },
      "outputs": [],
      "source": [
        "from scipy import sparse\n",
        "def feat_trans_eve(brand,model,appid,labelid,timestamps,unique_columns): \n",
        "    #loading data to make features\n",
        "    \n",
        "    #making brand featurea\n",
        "    feat_br_encoder = pickle.load(open('feat_br_encoder.sav','rb'))\n",
        "    feat_l=[] \n",
        "    feat_l.append(brand)\n",
        "    feat_rp=feat_br_encoder.transform(feat_l)  \n",
        "    \n",
        "    feat_n=np.zeros(len(feat_br_encoder.classes_)) \n",
        "    \n",
        "    feat_n[feat_rp[0]]=1 \n",
        "    feat_sPhone = sparse.csr_matrix(feat_n) \n",
        "    print(\"shape of phone {}\".format(feat_sPhone.shape)) \n",
        "    \n",
        "    \n",
        "    #making phone model features\n",
        "    feat_mod_encodr = pickle.load(open('feat_mod_encodr.sav','rb'))\n",
        "    #converting model to labels\n",
        "    feat_modl=brand+model  \n",
        "    feat_l=[] \n",
        "    feat_l.append(feat_modl)  \n",
        "    feat_rm=feat_mod_encodr.transform(feat_l)  \n",
        "    feat_n=np.zeros(len(feat_mod_encodr.classes_)) \n",
        "    \n",
        "    feat_n[feat_rm[0]]=1  \n",
        "    feat_sModel = sparse.csr_matrix(feat_n)  \n",
        "    print(\"shape of model {}\".format(feat_sModel.shape)) \n",
        "    \n",
        "    #making apps features\n",
        "    feat_ap_encodr = pickle.load(open('feat_ap_encodr.sav','rb'))\n",
        "  \n",
        "    #converting apps to labels\n",
        "    feat_ind_apps= feat_ap_encodr.transform(feat_ap_id)\n",
        "    feat_napps = len(feat_ap_encodr.classes_) \n",
        "    feat_n=np.zeros(feat_napps) \n",
        "    for i in feat_ind_apps: \n",
        "        feat_n[i]=1  \n",
        "    feat_sApps =  sparse.csr_matrix(feat_n) \n",
        "    print(\"shape of apps {}\".format(feat_sApps.shape))\n",
        "     \n",
        "    #label features\n",
        "    #converting apps to labels\n",
        "    feat_lab_encodr = pickle.load(open('feat_lab_encodr.sav','rb')) \n",
        "    feat_ind_lab= feat_lab_encodr.transform(feat_labid)\n",
        "    feat_nlabs = len(feat_lab_encodr.classes_) \n",
        "    feat_n=np.zeros(feat_nlabs) \n",
        "    for i in feat_ind_lab: \n",
        "        feat_n[i]=1  \n",
        "    feat_sLabs = sparse.csr_matrix(feat_n)\n",
        "    \n",
        "    print(\"shape of labels {}\".format(feat_sLabs.shape))\n",
        "    #model frequency feature\n",
        "#model frequency feature\n",
        "    feat_mod_freq = pickle.load(open('feat_mod_freq.pkl','rb'))  \n",
        "    feat_mfreq=feat_mod_freq[model]\n",
        "    \n",
        "    feat_mf_encod =pickle.load(open('feat_mf_encod.sav','rb'))\n",
        "    feat_l=[] \n",
        "    feat_l.append(feat_mfreq) \n",
        "    feat_rmf=feat_mf_encod.transform(feat_l) \n",
        "    feat_nm_freqs = len(feat_mf_encod.classes_) \n",
        "    feat_n=np.zeros(feat_nm_freqs) \n",
        "    feat_n[feat_rmf[0]]=1 \n",
        "    feat_sMod_freq = sparse.csr_matrix(feat_n) \n",
        "    print(\"shape of mfreq {}\".format(feat_sMod_freq.shape))\n",
        "    \n",
        "    #making brand frequency feature \n",
        "    feat_br_freq = pickle.load(open('feat_br_freq.pkl','rb'))\n",
        "    feat_bfreq=feat_br_freq[brand]\n",
        "    feat_l=[] \n",
        "    feat_l.append(feat_bfreq)\n",
        "    feat_bf_encod = pickle.load(open('feat_bf_encod.sav','rb'))\n",
        "\n",
        "    feat_rbf=feat_bf_encod.transform(feat_l) \n",
        "    feat_nbfreqs = len(feat_bf_encod.classes_) \n",
        "    feat_n=np.zeros(feat_nbfreqs) \n",
        "    feat_n[feat_rbf[0]]=1 \n",
        "    feat_sBr_freq = sparse.csr_matrix(feat_n)\n",
        "    \n",
        "    print(\"shape of bfreq {}\".format(feat_sBr_freq.shape)) \n",
        "    #number of events feature\n",
        "    feat_n_eve=len(feat_timestmps) \n",
        "\n",
        "    feat_n_eve = (np.log(feat_n_eve)) \n",
        "    feat_hrs=[]\n",
        "    feat_n_eve=feat_n_eve/np.log(243460) \n",
        "    \n",
        "    # hour feature\n",
        "    for t in feat_timestmps: \n",
        "       feat_hrs.append(t.hour) \n",
        "    feat_n=np.zeros(24) \n",
        "    for hour in feat_hrs:\n",
        "        feat_n[hour]=1  \n",
        "    feat_s_hrs = sparse.csr_matrix(feat_n) \n",
        "    print(\"shape of hours {}\".format(feat_s_hrs.shape))\n",
        "    \n",
        "    \n",
        "     #preparing tfidf features  \n",
        "    \n",
        "    feat_tfv = pickle.load(open('tfv_event.sav','rb'))\n",
        "    feat_terms=brand+\" \"+model \n",
        "    \n",
        "    feat_labid=list(feat_labid)\n",
        "    feat_labid.insert(0,feat_tf) \n",
        "    feat_terms=feat_labid  \n",
        "    feat_terms=list(map(str, feat_tf))\n",
        "    feat_terms=\" \".join(feat_tf)\n",
        "    \n",
        "    feat_tfidf_test=feat_tfv.transform([feat_terms]) \n",
        "    \n",
        "    print(\"shape of tfidf {}\".format(feat_tfidf_test.shape))\n",
        "    Xtest=hstack((feat_sPhone,feat_sModel,feat_sMod_freq,feat_sBr_freq,feat_sApps,feat_sLabs,feat_n_eve,feat_s_hrs,feat_tfidf_test))  \n",
        "    print(Xtest.shape)\n",
        "    Xtest=Xtest.tocsc()[:,feat_unq_colmns]\n",
        "    return Xtest\n",
        "     \n",
        "   \n",
        "    \n",
        "    \n",
        "    \n",
        "\n",
        "    "
      ]
    },
    {
      "cell_type": "markdown",
      "metadata": {
        "id": "yz4L8rV7zDA4"
      },
      "source": [
        "## First Function for model"
      ]
    },
    {
      "cell_type": "code",
      "execution_count": null,
      "metadata": {
        "id": "KfGF3XZHzDA5"
      },
      "outputs": [],
      "source": [
        "from keras.models import load_model\n",
        "def feat_f1(X):  \n",
        "    feat_it = [x for x in range(1,12)] \n",
        "    feat_val=iter(X) \n",
        "    global feat_unq_col\n",
        "    feat_res_dct = dict(zip(feat_it, feat_val))  \n",
        "    feat_eve_id=feat_res_dct[2] \n",
        "    feat_timestmps=feat_res_dct[3] \n",
        "    feat_timestmps=pd.to_datetime(feat_timestmps)\n",
        "    feat_ap_id=[feat_res_dct[6]] \n",
        "    feat_eve_id=feat_res_dct[2]\n",
        "    feat_ap_lab=feat_res_dct[9]\n",
        "    feat_ph=feat_res_dct[10] \n",
        "    feat_mod=feat_res_dct[11]\n",
        "    feat_ypred=np.zeros((1,12))\n",
        "    if feat_eve_id!=0: \n",
        "        Xte=feat_transform(feat_ph,feat_mod) \n",
        "        for i in range(1,11): \n",
        "            feat_load_mod = pickle.load(open('logistic_'+str(i)+'.sav', 'rb'))\n",
        "            feat_ypred+=feat_load_mod.predict_proba(Xte)\n",
        "        feat_ypred=feat_ypred/10 \n",
        "    else: \n",
        "        Xte=feat_trans_eve(feat_ph,feat_mod,feat_ap_id,feat_ap_lab,feat_timestmps,feat_unq_colmns)\n",
        "        for i in range(1,11): \n",
        "            feat_load_mod = load_model('keras_'+str(i)+'.hdf5')\n",
        "            feat_ypred+=feat_load_mod.predict_proba(Xte)\n",
        "        feat_ypred=feat_ypred/10 \n",
        "    return feat_ypred   \n",
        "\n"
      ]
    },
    {
      "cell_type": "code",
      "execution_count": null,
      "metadata": {
        "id": "Xn4IUFmPzDA5"
      },
      "outputs": [],
      "source": [
        "feat_t=feat_gat_test.iloc[:2,:] \n",
        "feat_t=feat_test.merge(feat_eve) \n",
        "feat_t=feat_test.merge(feat_ap_eve) \n",
        "feat_t=feat_test.merge(feat_ap_lab) \n",
        "feat_t=feat_test[feat_test.feat_dev_id==feat_test.feat_dev_id[0]]"
      ]
    },
    {
      "cell_type": "code",
      "execution_count": null,
      "metadata": {
        "id": "fl_IagjrzDA5"
      },
      "outputs": [],
      "source": [
        "feat_test=feat_test.merge(feat_ph) \n"
      ]
    },
    {
      "cell_type": "code",
      "execution_count": null,
      "metadata": {
        "id": "dW-dtqZczDA6",
        "outputId": "e56ee95d-6337-4a35-bf46-0f35332d2750"
      },
      "outputs": [
        {
          "data": {
            "text/html": [
              "<div>\n",
              "<style scoped>\n",
              "    .dataframe tbody tr th:only-of-type {\n",
              "        vertical-align: middle;\n",
              "    }\n",
              "\n",
              "    .dataframe tbody tr th {\n",
              "        vertical-align: top;\n",
              "    }\n",
              "\n",
              "    .dataframe thead th {\n",
              "        text-align: right;\n",
              "    }\n",
              "</style>\n",
              "<table border=\"1\" class=\"dataframe\">\n",
              "  <thead>\n",
              "    <tr style=\"text-align: right;\">\n",
              "      <th></th>\n",
              "      <th>device_id</th>\n",
              "      <th>event_id</th>\n",
              "      <th>timestamp</th>\n",
              "      <th>longitude</th>\n",
              "      <th>latitude</th>\n",
              "      <th>app_id</th>\n",
              "      <th>is_installed</th>\n",
              "      <th>is_active</th>\n",
              "      <th>label_id</th>\n",
              "      <th>phone_brand</th>\n",
              "      <th>device_model</th>\n",
              "    </tr>\n",
              "  </thead>\n",
              "  <tbody>\n",
              "    <tr>\n",
              "      <td>0</td>\n",
              "      <td>1002079943728939269</td>\n",
              "      <td>460577</td>\n",
              "      <td>2016-05-03 21:06:29</td>\n",
              "      <td>0.0</td>\n",
              "      <td>0.0</td>\n",
              "      <td>5927333115845830913</td>\n",
              "      <td>True</td>\n",
              "      <td>False</td>\n",
              "      <td>549</td>\n",
              "      <td>小米</td>\n",
              "      <td>小米note</td>\n",
              "    </tr>\n",
              "    <tr>\n",
              "      <td>1</td>\n",
              "      <td>1002079943728939269</td>\n",
              "      <td>460577</td>\n",
              "      <td>2016-05-03 21:06:29</td>\n",
              "      <td>0.0</td>\n",
              "      <td>0.0</td>\n",
              "      <td>5927333115845830913</td>\n",
              "      <td>True</td>\n",
              "      <td>False</td>\n",
              "      <td>710</td>\n",
              "      <td>小米</td>\n",
              "      <td>小米note</td>\n",
              "    </tr>\n",
              "    <tr>\n",
              "      <td>2</td>\n",
              "      <td>1002079943728939269</td>\n",
              "      <td>460577</td>\n",
              "      <td>2016-05-03 21:06:29</td>\n",
              "      <td>0.0</td>\n",
              "      <td>0.0</td>\n",
              "      <td>5927333115845830913</td>\n",
              "      <td>True</td>\n",
              "      <td>False</td>\n",
              "      <td>704</td>\n",
              "      <td>小米</td>\n",
              "      <td>小米note</td>\n",
              "    </tr>\n",
              "    <tr>\n",
              "      <td>3</td>\n",
              "      <td>1002079943728939269</td>\n",
              "      <td>460577</td>\n",
              "      <td>2016-05-03 21:06:29</td>\n",
              "      <td>0.0</td>\n",
              "      <td>0.0</td>\n",
              "      <td>5927333115845830913</td>\n",
              "      <td>True</td>\n",
              "      <td>False</td>\n",
              "      <td>548</td>\n",
              "      <td>小米</td>\n",
              "      <td>小米note</td>\n",
              "    </tr>\n",
              "    <tr>\n",
              "      <td>4</td>\n",
              "      <td>1002079943728939269</td>\n",
              "      <td>460577</td>\n",
              "      <td>2016-05-03 21:06:29</td>\n",
              "      <td>0.0</td>\n",
              "      <td>0.0</td>\n",
              "      <td>5927333115845830913</td>\n",
              "      <td>True</td>\n",
              "      <td>False</td>\n",
              "      <td>172</td>\n",
              "      <td>小米</td>\n",
              "      <td>小米note</td>\n",
              "    </tr>\n",
              "    <tr>\n",
              "      <td>...</td>\n",
              "      <td>...</td>\n",
              "      <td>...</td>\n",
              "      <td>...</td>\n",
              "      <td>...</td>\n",
              "      <td>...</td>\n",
              "      <td>...</td>\n",
              "      <td>...</td>\n",
              "      <td>...</td>\n",
              "      <td>...</td>\n",
              "      <td>...</td>\n",
              "      <td>...</td>\n",
              "    </tr>\n",
              "    <tr>\n",
              "      <td>1781</td>\n",
              "      <td>1002079943728939269</td>\n",
              "      <td>3127685</td>\n",
              "      <td>2016-05-06 22:05:18</td>\n",
              "      <td>0.0</td>\n",
              "      <td>0.0</td>\n",
              "      <td>3717049149426646122</td>\n",
              "      <td>True</td>\n",
              "      <td>False</td>\n",
              "      <td>548</td>\n",
              "      <td>小米</td>\n",
              "      <td>小米note</td>\n",
              "    </tr>\n",
              "    <tr>\n",
              "      <td>1782</td>\n",
              "      <td>1002079943728939269</td>\n",
              "      <td>3127685</td>\n",
              "      <td>2016-05-06 22:05:18</td>\n",
              "      <td>0.0</td>\n",
              "      <td>0.0</td>\n",
              "      <td>3717049149426646122</td>\n",
              "      <td>True</td>\n",
              "      <td>False</td>\n",
              "      <td>183</td>\n",
              "      <td>小米</td>\n",
              "      <td>小米note</td>\n",
              "    </tr>\n",
              "    <tr>\n",
              "      <td>1783</td>\n",
              "      <td>1002079943728939269</td>\n",
              "      <td>2145937</td>\n",
              "      <td>2016-05-05 08:28:20</td>\n",
              "      <td>0.0</td>\n",
              "      <td>0.0</td>\n",
              "      <td>-3473060463208403965</td>\n",
              "      <td>True</td>\n",
              "      <td>False</td>\n",
              "      <td>1014</td>\n",
              "      <td>小米</td>\n",
              "      <td>小米note</td>\n",
              "    </tr>\n",
              "    <tr>\n",
              "      <td>1784</td>\n",
              "      <td>1002079943728939269</td>\n",
              "      <td>2774265</td>\n",
              "      <td>2016-05-07 09:08:31</td>\n",
              "      <td>0.0</td>\n",
              "      <td>0.0</td>\n",
              "      <td>-3473060463208403965</td>\n",
              "      <td>True</td>\n",
              "      <td>False</td>\n",
              "      <td>1014</td>\n",
              "      <td>小米</td>\n",
              "      <td>小米note</td>\n",
              "    </tr>\n",
              "    <tr>\n",
              "      <td>1785</td>\n",
              "      <td>1002079943728939269</td>\n",
              "      <td>3127685</td>\n",
              "      <td>2016-05-06 22:05:18</td>\n",
              "      <td>0.0</td>\n",
              "      <td>0.0</td>\n",
              "      <td>-3473060463208403965</td>\n",
              "      <td>True</td>\n",
              "      <td>False</td>\n",
              "      <td>1014</td>\n",
              "      <td>小米</td>\n",
              "      <td>小米note</td>\n",
              "    </tr>\n",
              "  </tbody>\n",
              "</table>\n",
              "<p>1786 rows × 11 columns</p>\n",
              "</div>"
            ],
            "text/plain": [
              "                device_id  event_id           timestamp  longitude  latitude  \\\n",
              "0     1002079943728939269    460577 2016-05-03 21:06:29        0.0       0.0   \n",
              "1     1002079943728939269    460577 2016-05-03 21:06:29        0.0       0.0   \n",
              "2     1002079943728939269    460577 2016-05-03 21:06:29        0.0       0.0   \n",
              "3     1002079943728939269    460577 2016-05-03 21:06:29        0.0       0.0   \n",
              "4     1002079943728939269    460577 2016-05-03 21:06:29        0.0       0.0   \n",
              "...                   ...       ...                 ...        ...       ...   \n",
              "1781  1002079943728939269   3127685 2016-05-06 22:05:18        0.0       0.0   \n",
              "1782  1002079943728939269   3127685 2016-05-06 22:05:18        0.0       0.0   \n",
              "1783  1002079943728939269   2145937 2016-05-05 08:28:20        0.0       0.0   \n",
              "1784  1002079943728939269   2774265 2016-05-07 09:08:31        0.0       0.0   \n",
              "1785  1002079943728939269   3127685 2016-05-06 22:05:18        0.0       0.0   \n",
              "\n",
              "                   app_id  is_installed  is_active  label_id phone_brand  \\\n",
              "0     5927333115845830913          True      False       549          小米   \n",
              "1     5927333115845830913          True      False       710          小米   \n",
              "2     5927333115845830913          True      False       704          小米   \n",
              "3     5927333115845830913          True      False       548          小米   \n",
              "4     5927333115845830913          True      False       172          小米   \n",
              "...                   ...           ...        ...       ...         ...   \n",
              "1781  3717049149426646122          True      False       548          小米   \n",
              "1782  3717049149426646122          True      False       183          小米   \n",
              "1783 -3473060463208403965          True      False      1014          小米   \n",
              "1784 -3473060463208403965          True      False      1014          小米   \n",
              "1785 -3473060463208403965          True      False      1014          小米   \n",
              "\n",
              "     device_model  \n",
              "0          小米note  \n",
              "1          小米note  \n",
              "2          小米note  \n",
              "3          小米note  \n",
              "4          小米note  \n",
              "...           ...  \n",
              "1781       小米note  \n",
              "1782       小米note  \n",
              "1783       小米note  \n",
              "1784       小米note  \n",
              "1785       小米note  \n",
              "\n",
              "[1786 rows x 11 columns]"
            ]
          },
          "execution_count": 77,
          "metadata": {},
          "output_type": "execute_result"
        }
      ],
      "source": [
        "feat_test"
      ]
    },
    {
      "cell_type": "code",
      "execution_count": null,
      "metadata": {
        "id": "Hverq7-3zDA6"
      },
      "outputs": [],
      "source": [
        "feat_test=[1002079943728939269, 460577, ['2016-05-03 21:06:29','2016-05-05 08:28:20'], 0.0, 0.0, 5927333115845830913, True, False, [549,710,172], '小米', '小米note']"
      ]
    },
    {
      "cell_type": "code",
      "execution_count": null,
      "metadata": {
        "scrolled": true,
        "id": "bvneDPlbzDA7",
        "outputId": "d051ef8a-e8f6-48c7-d205-89c005c8643e"
      },
      "outputs": [
        {
          "name": "stdout",
          "output_type": "stream",
          "text": [
            "shape of phone (1, 131)\n",
            "shape of model (1, 1667)\n",
            "shape of mfreq (1, 310)\n",
            "shape of brandfreq (1, 73)\n",
            "shape of tfidf (1, 1570)\n"
          ]
        },
        {
          "data": {
            "text/plain": [
              "array([[0.05807013, 0.05720962, 0.04567753, 0.05930158, 0.06988216,\n",
              "        0.05366598, 0.117675  , 0.12713613, 0.08327792, 0.09351835,\n",
              "        0.12175918, 0.11282642]])"
            ]
          },
          "execution_count": 88,
          "metadata": {},
          "output_type": "execute_result"
        }
      ],
      "source": [
        "import pickle\n",
        "feat_f1(feat_test)"
      ]
    },
    {
      "cell_type": "code",
      "execution_count": null,
      "metadata": {
        "id": "757Lx-tkzDA7"
      },
      "outputs": [],
      "source": [
        "feat_transform()"
      ]
    },
    {
      "cell_type": "markdown",
      "metadata": {
        "id": "yZjduPdyzDA7"
      },
      "source": [
        "## Second function for model"
      ]
    },
    {
      "cell_type": "code",
      "execution_count": null,
      "metadata": {
        "id": "2hCrEXOyzDA7"
      },
      "outputs": [],
      "source": [
        " \n",
        "def feat_f1(device_id,phone,model,has_event=0,appid=0,applabel=0,timestamps=0,unique_columns=0,y): \n",
        "    feat_ypred=np.zeros((1,12))\n",
        "    if has_event==0: \n",
        "        feat_Xte=feat_transform(feat_dev_id,feat_ph,feat_mod) \n",
        "        for i in range(1,11): \n",
        "            feat_load_mod = pickle.load(open('logistic_'+str(i)+'.sav', 'rb'))\n",
        "            feat_ypred+=feat_load_mod.predict_proba(feat_Xte)\n",
        "        feat_ypred=feat_ypred/10 \n",
        "    else: \n",
        "        feat_Xte=feat_transform(feat_dev_id,feat_ph,feat_mod,feat_appid,feat_ap_lab,feat_timestmps,feat_unq_colmns)\n",
        "        for i in range(1,11): \n",
        "            feat_load_mod = load_model('keras_'+str(i)+'.hdf5')\n",
        "            feat_ypred+=feat_load_mod.predict_proba(feat_Xte)\n",
        "        feat_ypred=feat_ypred/10  \n",
        "        feat_los=log_loss(feat_ypred,y)\n",
        "    return feat_los   \n",
        "\n",
        "\n"
      ]
    },
    {
      "cell_type": "code",
      "execution_count": null,
      "metadata": {
        "id": "24dK-SxNzDA8",
        "outputId": "17953464-92a3-40d1-ce20-205ffa157229"
      },
      "outputs": [
        {
          "name": "stdout",
          "output_type": "stream",
          "text": [
            "+-------------------------------------------------------+---------------------------------------------------------------+---------+\n",
            "| Model                                                 | Parameters                                                    | Score   |\n",
            "+-------------------------------------------------------+---------------------------------------------------------------+---------+\n",
            "| Logistic Regression                                   | C=0.02                                                        | 2.27    |\n",
            "| Decision Tree                                         | min_sample_split=6 ,max_depth=6                               | 2.41    |\n",
            "| Xgboost                                               | 'max_depth':6 ,'min_child_weight':5                           | 2.257   |\n",
            "| Keras 1                                               | epochs=18 batches=175                                         | 2.24    |\n",
            "| Keras 2 different models for events and no events     | events:{epochs=80 batches=5} noevents:{epochs=30 batches=100} | 2.24    |\n",
            "| Keras 3                                               | epochs=200 batches=5                                          | 2.2378  |\n",
            "| Keras for events and logistic regression for noevents | keras:{epochs=20,batches=200}, lr:{C=0.016}                   | 2.23704 |\n",
            "| ensemble model                                        | 5 model predictions                                           | 2.23714 |\n",
            "+-------------------------------------------------------+---------------------------------------------------------------+---------+\n"
          ]
        }
      ],
      "source": [
        "from prettytable import PrettyTable\n",
        "feat_x = PrettyTable()\n",
        "\n",
        "feat_x.field_names = [\"Model\", \"Parameters\", \"Score\"]\n",
        "\n",
        "feat_x.add_row([\"Logistic Regression\", \"C=0.02\", 2.27])\n",
        "feat_x.add_row([\"Decision Tree\",\"min_sample_split=6 ,max_depth=6\", 2.41])\n",
        "feat_x.add_row([\"Xgboost\", \"'max_depth':6 ,'min_child_weight':5\", 2.257])\n",
        "feat_x.add_row([\"Keras 1\", \"epochs=18 batches=175\", 2.24])\n",
        "feat_x.add_row([\"Keras 2 different models for events and no events\", \"events:{epochs=80 batches=5} noevents:{epochs=30 batches=100}\", 2.24])\n",
        "feat_x.add_row([\"Keras 3\",\"epochs=200 batches=5\", 2.2378])\n",
        "feat_x.add_row([\"Keras for events and logistic regression for noevents\",\"keras:{epochs=20,batches=200}, lr:{C=0.016} \", 2.23704]) \n",
        "feat_x.add_row([\"ensemble model\",\"5 model predictions\",2.23714])\n",
        "feat_x.align = \"l\"\n",
        "print(feat_x)"
      ]
    },
    {
      "cell_type": "code",
      "execution_count": null,
      "metadata": {
        "id": "4e20V43pzDA8"
      },
      "outputs": [],
      "source": [
        ""
      ]
    }
  ],
  "metadata": {
    "kernelspec": {
      "display_name": "Python 3",
      "language": "python",
      "name": "python3"
    },
    "language_info": {
      "codemirror_mode": {
        "name": "ipython",
        "version": 3
      },
      "file_extension": ".py",
      "mimetype": "text/x-python",
      "name": "python",
      "nbconvert_exporter": "python",
      "pygments_lexer": "ipython3",
      "version": "3.6.7"
    },
    "colab": {
      "name": "Final_func.ipynb",
      "provenance": [],
      "collapsed_sections": []
    }
  },
  "nbformat": 4,
  "nbformat_minor": 0
}