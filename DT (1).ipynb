{
  "cells": [
    {
      "cell_type": "code",
      "execution_count": null,
      "metadata": {
        "id": "3SRn3wTos8XL"
      },
      "outputs": [],
      "source": [
        "import os\n",
        "import sys\n",
        "from os import path\n",
        "import numpy as np\n",
        "import pandas as pd\n",
        "from scipy import sparse, io\n",
        "from scipy.sparse import csr_matrix, hstack\n",
        "from sklearn.preprocessing import LabelEncoder\n",
        "from sklearn.decomposition import TruncatedSVD\n",
        "from sklearn.preprocessing import StandardScaler\n",
        "import matplotlib.pyplot as plt"
      ]
    },
    {
      "cell_type": "code",
      "source": [
        "from google.colab import drive\n",
        "\n",
        "drive.mount('/content/gdrive')"
      ],
      "metadata": {
        "colab": {
          "base_uri": "https://localhost:8080/"
        },
        "id": "LzTZUJQqu3zL",
        "outputId": "96a772df-014e-46d3-f20e-ef57e2d50224"
      },
      "execution_count": 2,
      "outputs": [
        {
          "output_type": "stream",
          "name": "stdout",
          "text": [
            "Mounted at /content/gdrive\n"
          ]
        }
      ]
    },
    {
      "cell_type": "markdown",
      "metadata": {
        "id": "zTLnPGdJs8XS"
      },
      "source": [
        "## Loading Data"
      ]
    },
    {
      "cell_type": "code",
      "execution_count": null,
      "metadata": {
        "id": "g2iqEKYws8XU"
      },
      "outputs": [],
      "source": [
        "feat_gat_tr = pd.read_csv('/content/gdrive/MyDrive/talkingdata-mobile-user-demographics/gender_age_train.csv')\n",
        "feat_gat_test = pd.read_csv('/content/gdrive/MyDrive/talkingdata-mobile-user-demographics/gender_age_test.csv')\n",
        "feat_ph = pd.read_csv('/content/gdrive/MyDrive/talkingdata-mobile-user-demographics/phone_brand_device_model.csv')\n",
        "# removing duplicate values in phone dataframe so doesn't create problems while joining dataframes\n",
        "feat_ph=feat_ph.drop_duplicates('device_id',keep='first')\n",
        "\n",
        "feat_eve = pd.read_csv('/content/gdrive/MyDrive/talkingdata-mobile-user-demographics/events.csv'parse_dates=['timestamp'],infer_datetime_format=True)\n",
        "\n",
        "feat_ap_eve = pd.read_csv('/content/gdrive/MyDrive/talkingdata-mobile-user-demographics/app_events.csv',dtype={'is_installed':bool, 'is_active':bool})\n",
        "\n",
        "feat_app_lab = pd.read_csv('/content/gdrive/MyDrive/talkingdata-mobile-user-demographics/app_labels.csv') \n",
        "feat_fold_5=pd.read_csv('/content/gdrive/MyDrive/talkingdata-mobile-user-demographics/folds_5.csv') \n",
        "feat_fold_10=pd.read_csv('/content/gdrive/MyDrive/talkingdata-mobile-user-demographics/folds_10.csv')"
      ]
    },
    {
      "cell_type": "code",
      "execution_count": null,
      "metadata": {
        "id": "eooOLoAUs8XV"
      },
      "outputs": [],
      "source": [
        "import scipy \n",
        "Xtrain=scipy.sparse.load_npz('/content/gdrive/MyDrive/talkingdata-mobile-user-demographics/Xtrain_all.npz')  \n",
        "Xtest=scipy.sparse.load_npz('/content/gdrive/MyDrive/talkingdata-mobile-user-demographics/Xtest_all.npz')"
      ]
    },
    {
      "cell_type": "code",
      "execution_count": null,
      "metadata": {
        "id": "ZzScx0a5s8XW"
      },
      "outputs": [],
      "source": [
        "ytrain = feat_gat_tr['group']\n",
        "label_group = LabelEncoder()\n",
        "ytrain = label_group.fit_transform(ytrain)"
      ]
    },
    {
      "cell_type": "markdown",
      "metadata": {
        "id": "DHErqBfTs8Xd"
      },
      "source": [
        "## Hyperparameter tuning on Decision Tree"
      ]
    },
    {
      "cell_type": "code",
      "execution_count": null,
      "metadata": {
        "id": "iybPe6Vxs8Xd",
        "outputId": "80dcdf8d-824c-4776-b3b2-4c50af85ff9e"
      },
      "outputs": [
        {
          "name": "stdout",
          "output_type": "stream",
          "text": [
            "Fitting 5 folds for each of 16 candidates, totalling 80 fits\n"
          ]
        },
        {
          "name": "stderr",
          "output_type": "stream",
          "text": [
            "[Parallel(n_jobs=-1)]: Using backend LokyBackend with 4 concurrent workers.\n",
            "[Parallel(n_jobs=-1)]: Done  42 tasks      | elapsed:  1.4min\n",
            "[Parallel(n_jobs=-1)]: Done  80 out of  80 | elapsed:  5.2min finished\n"
          ]
        }
      ],
      "source": [
        "from sklearn.tree import DecisionTreeClassifier\n",
        "param_grid = [\n",
        "    {'classifier' : [DecisionTreeClassifier()],\n",
        "    'classifier__min_samples_split' : list(range(2,10,2)),\n",
        "    'classifier__max_depth' : list(range(6,22,5))}\n",
        "]\n",
        "feat_clf = GridSearchCV(pipe, param_grid = param_grid, scoring='neg_log_loss', cv = 5, verbose=True, n_jobs=-1) \n",
        "best_clf=feat_clf.fit(Xtrain,ytrain)"
      ]
    },
    {
      "cell_type": "code",
      "execution_count": null,
      "metadata": {
        "scrolled": false,
        "id": "4q5ZBiHLs8Xe",
        "outputId": "21bcfabd-023d-4460-8677-afd44b66e595"
      },
      "outputs": [
        {
          "data": {
            "text/plain": [
              "{'classifier': DecisionTreeClassifier(class_weight=None, criterion='gini', max_depth=6,\n",
              "                        max_features=None, max_leaf_nodes=None,\n",
              "                        min_impurity_decrease=0.0, min_impurity_split=None,\n",
              "                        min_samples_leaf=1, min_samples_split=6,\n",
              "                        min_weight_fraction_leaf=0.0, presort=False,\n",
              "                        random_state=None, splitter='best'),\n",
              " 'classifier__max_depth': 6,\n",
              " 'classifier__min_samples_split': 6}"
            ]
          },
          "execution_count": 39,
          "metadata": {},
          "output_type": "execute_result"
        }
      ],
      "source": [
        "best_clf.best_params_"
      ]
    },
    {
      "cell_type": "code",
      "execution_count": null,
      "metadata": {
        "id": "6So3mgeKs8Xf",
        "outputId": "d4e41399-8b6b-45ca-bbfc-ffa31c6af11e"
      },
      "outputs": [
        {
          "data": {
            "text/plain": [
              "-2.4332835621797053"
            ]
          },
          "execution_count": 42,
          "metadata": {},
          "output_type": "execute_result"
        }
      ],
      "source": [
        "best_clf.best_score_"
      ]
    },
    {
      "cell_type": "markdown",
      "metadata": {
        "id": "TjEggDAUs8Xf"
      },
      "source": [
        "## Predicting on best model Dtree"
      ]
    },
    {
      "cell_type": "code",
      "execution_count": null,
      "metadata": {
        "id": "pJxgznzNs8Xg"
      },
      "outputs": [],
      "source": [
        "from sklearn.linear_model import LogisticRegression \n",
        "feat_lr=DecisionTreeClassifier(max_depth= 6,min_samples_split= 6).fit(Xtrain,ytrain) \n",
        "\n",
        "p_group=np.zeros((Xtest.shape[0],12)) \n",
        "p_group=feat_lr.predict_proba(Xtest)"
      ]
    },
    {
      "cell_type": "code",
      "execution_count": null,
      "metadata": {
        "id": "beKTh9Nts8Xh"
      },
      "outputs": [],
      "source": [
        "pred_test=pd.DataFrame(p_group,index=feat_gat_tr.device_id,columns=list(lab.classes_)) \n",
        "pred_test=pred_test.reset_index() \n",
        "\n",
        "pred_test.to_csv('pred_test_dt.csv',index=False)"
      ]
    }
  ],
  "metadata": {
    "kernelspec": {
      "display_name": "Python 3",
      "language": "python",
      "name": "python3"
    },
    "language_info": {
      "codemirror_mode": {
        "name": "ipython",
        "version": 3
      },
      "file_extension": ".py",
      "mimetype": "text/x-python",
      "name": "python",
      "nbconvert_exporter": "python",
      "pygments_lexer": "ipython3",
      "version": "3.6.7"
    },
    "colab": {
      "name": "DT.ipynb",
      "provenance": []
    }
  },
  "nbformat": 4,
  "nbformat_minor": 0
}